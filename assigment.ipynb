{
 "cells": [
  {
   "cell_type": "code",
   "execution_count": 16,
   "id": "694b9408-4987-4d3e-bc0f-295838960dc5",
   "metadata": {},
   "outputs": [
    {
     "name": "stdout",
     "output_type": "stream",
     "text": [
      "add1=\n",
      "100 98 96 94 92 90 88 86 84 82 80 78 76 74 72 70 68 66 64 62 60 58 56 54 52 50 48 46 44 42 40 38 36 34 32 30 28 26 24 22 20 18 16 14 12 10 8 6 4 2 … using the while loop\n"
     ]
    }
   ],
   "source": [
    "controller = 100;\n",
    "print(\"add1=\")\n",
    "while(controller >= 2):\n",
    "    \n",
    "    print(controller,end=\" \")\n",
    "    controller -= 2\n",
    "print(\"… using the while loop\")    "
   ]
  },
  {
   "cell_type": "code",
   "execution_count": 19,
   "id": "7cf00bdf-bd94-4237-99f4-7837de89ffd5",
   "metadata": {},
   "outputs": [
    {
     "name": "stdout",
     "output_type": "stream",
     "text": [
      "add2=\n",
      "100 98 96 94 92 90 88 86 84 82 80 78 76 74 72 70 68 66 64 62 60 58 56 54 52 50 48 46 44 42 40 38 36 34 32 30 28 26 24 22 20 18 16 14 12 10 8 6 4 2 … using the for loop\n"
     ]
    }
   ],
   "source": [
    "n=50  # we select n =50 becuase for logic we double it\n",
    "print(\"add2=\")\n",
    "for i in range(1,n+1):\n",
    "    print(2*n+2-2*i,end=\" \")\n",
    "print(\"… using the for loop\")\n"
   ]
  },
  {
   "cell_type": "code",
   "execution_count": 17,
   "id": "e1d255c0-f334-434b-94da-def15e9277f5",
   "metadata": {},
   "outputs": [
    {
     "name": "stdin",
     "output_type": "stream",
     "text": [
      "Enter the characters:  sda2343\n"
     ]
    },
    {
     "name": "stdout",
     "output_type": "stream",
     "text": [
      "Upper case letters: 0\n",
      "Lower case letters: 3\n",
      "Number: 4\n",
      "Special characters: 0\n"
     ]
    }
   ],
   "source": [
    "def Count(str):\n",
    "\n",
    "    upper, lower, number, special = 0, 0, 0, 0\n",
    "\n",
    "    for i in range(len(str)):\n",
    "\n",
    "        if str[i].isupper():\n",
    "\n",
    "            upper += 1\n",
    "\n",
    "        elif str[i].islower():\n",
    "\n",
    "            lower += 1\n",
    "\n",
    "        elif str[i].isdigit():\n",
    "\n",
    "            number += 1\n",
    "\n",
    "        else:\n",
    "\n",
    "            special += 1\n",
    "\n",
    "    print('Upper case letters:', upper)\n",
    "\n",
    "    print('Lower case letters:', lower)\n",
    "\n",
    "    print('Number:', number)\n",
    "\n",
    "    print('Special characters:', special)\n",
    " \n",
    "# Driver Code\n",
    "\n",
    "str = input (\"Enter the characters: \")\n",
    "\n",
    "Count(str)"
   ]
  },
  {
   "cell_type": "code",
   "execution_count": null,
   "id": "39771be9-2723-4d26-90a4-304aeed70bf1",
   "metadata": {},
   "outputs": [],
   "source": []
  }
 ],
 "metadata": {
  "kernelspec": {
   "display_name": "Python 3",
   "language": "python",
   "name": "python3"
  },
  "language_info": {
   "codemirror_mode": {
    "name": "ipython",
    "version": 3
   },
   "file_extension": ".py",
   "mimetype": "text/x-python",
   "name": "python",
   "nbconvert_exporter": "python",
   "pygments_lexer": "ipython3",
   "version": "3.8.8"
  }
 },
 "nbformat": 4,
 "nbformat_minor": 5
}
