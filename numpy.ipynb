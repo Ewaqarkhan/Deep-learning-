{
 "cells": [
  {
   "cell_type": "code",
   "execution_count": 1,
   "id": "73cde993-0441-4441-aba0-97c64b10b971",
   "metadata": {},
   "outputs": [],
   "source": [
    "import numpy as np"
   ]
  },
  {
   "cell_type": "code",
   "execution_count": 2,
   "id": "376d1502-61ea-4ca3-a3fb-ddb3feea297a",
   "metadata": {},
   "outputs": [],
   "source": [
    "matrix1=np.array([[1,3,4,5],\n",
    "               [3,5,6,7],\n",
    "               [3,4,5,6]]\n",
    "               )"
   ]
  },
  {
   "cell_type": "code",
   "execution_count": 3,
   "id": "ae559dfd-4ab3-4733-a72a-ac22bfb197b8",
   "metadata": {},
   "outputs": [
    {
     "data": {
      "text/plain": [
       "array([[1, 3, 4, 5],\n",
       "       [3, 5, 6, 7],\n",
       "       [3, 4, 5, 6]])"
      ]
     },
     "execution_count": 3,
     "metadata": {},
     "output_type": "execute_result"
    }
   ],
   "source": [
    "matrix1"
   ]
  },
  {
   "cell_type": "code",
   "execution_count": 4,
   "id": "a784dea8-2cc3-40ed-a6a6-061b5450bc02",
   "metadata": {},
   "outputs": [
    {
     "data": {
      "text/plain": [
       "6"
      ]
     },
     "execution_count": 4,
     "metadata": {},
     "output_type": "execute_result"
    }
   ],
   "source": [
    "matrix1[1,2]"
   ]
  },
  {
   "cell_type": "code",
   "execution_count": 5,
   "id": "a23db2a8-8e14-4e3f-86eb-49502a0c8b57",
   "metadata": {},
   "outputs": [
    {
     "data": {
      "text/plain": [
       "array([[1, 3, 4, 5],\n",
       "       [3, 5, 6, 7],\n",
       "       [3, 4, 5, 6]])"
      ]
     },
     "execution_count": 5,
     "metadata": {},
     "output_type": "execute_result"
    }
   ],
   "source": [
    "matrix1[:]"
   ]
  },
  {
   "cell_type": "code",
   "execution_count": 6,
   "id": "5785f1ff-391b-458e-ae7c-768df908dab7",
   "metadata": {},
   "outputs": [
    {
     "data": {
      "text/plain": [
       "array([[3, 5, 6, 7],\n",
       "       [3, 4, 5, 6]])"
      ]
     },
     "execution_count": 6,
     "metadata": {},
     "output_type": "execute_result"
    }
   ],
   "source": [
    "matrix1[1:3]"
   ]
  },
  {
   "cell_type": "code",
   "execution_count": 7,
   "id": "d800d47c-160d-4289-960b-d5f12c7f6027",
   "metadata": {},
   "outputs": [
    {
     "data": {
      "text/plain": [
       "array([3, 4, 5, 6])"
      ]
     },
     "execution_count": 7,
     "metadata": {},
     "output_type": "execute_result"
    }
   ],
   "source": [
    "matrix1[-1]"
   ]
  },
  {
   "cell_type": "code",
   "execution_count": 8,
   "id": "021f19f1-c15d-4582-af87-bbec20545558",
   "metadata": {},
   "outputs": [
    {
     "data": {
      "text/plain": [
       "array([[1, 3, 4, 5],\n",
       "       [3, 5, 6, 7],\n",
       "       [3, 4, 5, 6]])"
      ]
     },
     "execution_count": 8,
     "metadata": {},
     "output_type": "execute_result"
    }
   ],
   "source": [
    "matrix1[:,:]"
   ]
  },
  {
   "cell_type": "code",
   "execution_count": 9,
   "id": "906242c9-fffe-40b4-84cb-ce444c928511",
   "metadata": {},
   "outputs": [
    {
     "data": {
      "text/plain": [
       "array([[3],\n",
       "       [5],\n",
       "       [4]])"
      ]
     },
     "execution_count": 9,
     "metadata": {},
     "output_type": "execute_result"
    }
   ],
   "source": [
    "matrix1[:,1:2]"
   ]
  },
  {
   "cell_type": "code",
   "execution_count": 10,
   "id": "6f4d7aaf-3f62-42a2-a892-7452245b7098",
   "metadata": {},
   "outputs": [
    {
     "data": {
      "text/plain": [
       "12"
      ]
     },
     "execution_count": 10,
     "metadata": {},
     "output_type": "execute_result"
    }
   ],
   "source": [
    "matrix1.size"
   ]
  },
  {
   "cell_type": "code",
   "execution_count": 11,
   "id": "f23735b1-9aa7-4289-80c9-18c8bde0e7c8",
   "metadata": {},
   "outputs": [
    {
     "data": {
      "text/plain": [
       "(3, 4)"
      ]
     },
     "execution_count": 11,
     "metadata": {},
     "output_type": "execute_result"
    }
   ],
   "source": [
    "matrix1.shape"
   ]
  },
  {
   "cell_type": "code",
   "execution_count": 12,
   "id": "a9cd631b-bfea-4fea-bff0-94bdefea0e58",
   "metadata": {},
   "outputs": [
    {
     "data": {
      "text/plain": [
       "7"
      ]
     },
     "execution_count": 12,
     "metadata": {},
     "output_type": "execute_result"
    }
   ],
   "source": [
    "np.max(matrix1)"
   ]
  },
  {
   "cell_type": "code",
   "execution_count": 13,
   "id": "b59155d9-378f-48f2-8c55-6f492f4dc397",
   "metadata": {},
   "outputs": [
    {
     "data": {
      "text/plain": [
       "1"
      ]
     },
     "execution_count": 13,
     "metadata": {},
     "output_type": "execute_result"
    }
   ],
   "source": [
    "np.min(matrix1)"
   ]
  },
  {
   "cell_type": "code",
   "execution_count": 14,
   "id": "6f7975f1-c8c4-4201-a02d-4453008219a7",
   "metadata": {},
   "outputs": [
    {
     "data": {
      "text/plain": [
       "2.555555555555556"
      ]
     },
     "execution_count": 14,
     "metadata": {},
     "output_type": "execute_result"
    }
   ],
   "source": [
    "np.var(matrix1)"
   ]
  },
  {
   "cell_type": "code",
   "execution_count": 15,
   "id": "9435976e-4f2b-44db-a853-24086f1062cb",
   "metadata": {},
   "outputs": [
    {
     "data": {
      "text/plain": [
       "1.5986105077709065"
      ]
     },
     "execution_count": 15,
     "metadata": {},
     "output_type": "execute_result"
    }
   ],
   "source": [
    "np.std(matrix1)"
   ]
  },
  {
   "cell_type": "code",
   "execution_count": 16,
   "id": "806daace-3ab9-4f2c-abeb-1ec0475ca559",
   "metadata": {},
   "outputs": [
    {
     "data": {
      "text/plain": [
       "array([2.33333333, 4.        , 5.        , 6.        ])"
      ]
     },
     "execution_count": 16,
     "metadata": {},
     "output_type": "execute_result"
    }
   ],
   "source": [
    "np.mean(matrix1,axis=0)"
   ]
  },
  {
   "cell_type": "code",
   "execution_count": 17,
   "id": "11804fa2-3493-4607-8fba-cd77632691d0",
   "metadata": {},
   "outputs": [],
   "source": [
    "### reshape of matrix"
   ]
  },
  {
   "cell_type": "code",
   "execution_count": 18,
   "id": "eb5f10c5-5cf8-49d4-a8da-e1d890a3ce5b",
   "metadata": {},
   "outputs": [
    {
     "data": {
      "text/plain": [
       "array([[1, 3, 4, 5, 3, 5],\n",
       "       [6, 7, 3, 4, 5, 6]])"
      ]
     },
     "execution_count": 18,
     "metadata": {},
     "output_type": "execute_result"
    }
   ],
   "source": [
    "matrix1.reshape(2,6)"
   ]
  },
  {
   "cell_type": "code",
   "execution_count": 21,
   "id": "92195233-0e12-4543-ba35-dd18e0adb104",
   "metadata": {},
   "outputs": [
    {
     "data": {
      "text/plain": [
       "array([[1, 3, 3],\n",
       "       [3, 5, 4],\n",
       "       [4, 6, 5],\n",
       "       [5, 7, 6]])"
      ]
     },
     "execution_count": 21,
     "metadata": {},
     "output_type": "execute_result"
    }
   ],
   "source": [
    "### matrix tranpos \n",
    "\n",
    "matrix1.T\n"
   ]
  },
  {
   "cell_type": "code",
   "execution_count": 22,
   "id": "36c3e435-8b87-42cf-952c-77fd39c4f7fb",
   "metadata": {},
   "outputs": [
    {
     "data": {
      "text/plain": [
       "0.0"
      ]
     },
     "execution_count": 22,
     "metadata": {},
     "output_type": "execute_result"
    }
   ],
   "source": [
    "np.linalg.det(matrix2)"
   ]
  },
  {
   "cell_type": "code",
   "execution_count": 23,
   "id": "6cda0e28-4bc6-4799-a1ca-f39c99b30bd2",
   "metadata": {},
   "outputs": [
    {
     "data": {
      "text/plain": [
       "array([[19, 25, 31],\n",
       "       [35, 47, 59],\n",
       "       [43, 58, 73]])"
      ]
     },
     "execution_count": 23,
     "metadata": {},
     "output_type": "execute_result"
    }
   ],
   "source": [
    "matrix2=np.array([[1,2,3],\n",
    "                [3,4,5],\n",
    "                [4,5,6]])\n",
    "matrix3=np.array([[1,2,3],\n",
    "                [3,4,5],\n",
    "                [4,5,6]])\n",
    "\n",
    "np.dot(matrix3,matrix2)"
   ]
  },
  {
   "cell_type": "code",
   "execution_count": 24,
   "id": "e9b7cfc7-0f1c-46ff-9a1e-448e83f9117a",
   "metadata": {},
   "outputs": [
    {
     "data": {
      "text/plain": [
       "array([[ 2,  4,  6],\n",
       "       [ 6,  8, 10],\n",
       "       [ 8, 10, 12]])"
      ]
     },
     "execution_count": 24,
     "metadata": {},
     "output_type": "execute_result"
    }
   ],
   "source": [
    "np.add(matrix3,matrix2)"
   ]
  },
  {
   "cell_type": "code",
   "execution_count": 25,
   "id": "fa3fac80-adab-41f0-9bda-15ec97802eac",
   "metadata": {},
   "outputs": [
    {
     "data": {
      "text/plain": [
       "array([[0, 0, 0],\n",
       "       [0, 0, 0],\n",
       "       [0, 0, 0]])"
      ]
     },
     "execution_count": 25,
     "metadata": {},
     "output_type": "execute_result"
    }
   ],
   "source": [
    "np.subtract(matrix3,matrix2)"
   ]
  },
  {
   "cell_type": "markdown",
   "id": "c40f5bb5-5a15-4a7c-a219-57ff30d0192a",
   "metadata": {},
   "source": []
  },
  {
   "cell_type": "code",
   "execution_count": null,
   "id": "fb7ee21a-5875-431c-9897-4addf70a34fa",
   "metadata": {},
   "outputs": [],
   "source": []
  },
  {
   "cell_type": "code",
   "execution_count": null,
   "id": "9f2f5543-b5f9-4bf6-88c9-e573115b9ad3",
   "metadata": {},
   "outputs": [],
   "source": []
  },
  {
   "cell_type": "code",
   "execution_count": null,
   "id": "8938aff1-69f3-4d8a-9152-3e8686d13900",
   "metadata": {},
   "outputs": [],
   "source": []
  }
 ],
 "metadata": {
  "kernelspec": {
   "display_name": "Python 3",
   "language": "python",
   "name": "python3"
  },
  "language_info": {
   "codemirror_mode": {
    "name": "ipython",
    "version": 3
   },
   "file_extension": ".py",
   "mimetype": "text/x-python",
   "name": "python",
   "nbconvert_exporter": "python",
   "pygments_lexer": "ipython3",
   "version": "3.8.8"
  }
 },
 "nbformat": 4,
 "nbformat_minor": 5
}
