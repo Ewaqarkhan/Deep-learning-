{
 "cells": [
  {
   "cell_type": "code",
   "execution_count": 31,
   "id": "f4ec8883-1842-47d4-8df1-2cc66d5af133",
   "metadata": {},
   "outputs": [],
   "source": [
    "#implementation of feedforward network in python \n",
    "\n",
    "\n",
    "\n",
    "\n",
    "import numpy as np\n",
    "inputs=[0.1,0.3,0.5]     #input layer\n",
    "weights_1=[[0.2,0.4,0.5],                    #weights of layer 1\n",
    "           [0.3,0.7,0.1],\n",
    "           [0.2,0.6,0.9]\n",
    "          ]\n",
    "weights_2=[[0.4,0.6,0.1],\n",
    "           [0.2,0.7,0.3],                         #weights of layer 2\n",
    "           [0.8,0.1,0.5]\n",
    "          ]\n",
    "weights_3=[[0.2,0.5,0.3],                      #weights of layer 3\n",
    "           [0.4,0.6,0.6],\n",
    "           [0.1,0.9,0.7]\n",
    "          ]\n",
    "\n",
    "b1,b2,b3=[0.1,0.1,0.1]                    # bias of layer 1 2 and 3"
   ]
  },
  {
   "cell_type": "code",
   "execution_count": 18,
   "id": "6dc8d2fe-7023-4922-9818-d7c4409d0e0e",
   "metadata": {},
   "outputs": [],
   "source": [
    "layer1=np.dot(inputs,weights_1)         #product of layer 1"
   ]
  },
  {
   "cell_type": "code",
   "execution_count": 32,
   "id": "4291e1e9-da3d-4db9-bc5d-d4369d43cf9f",
   "metadata": {},
   "outputs": [],
   "source": [
    "l1=layer1+b1                          #add bias with layer1"
   ]
  },
  {
   "cell_type": "code",
   "execution_count": 17,
   "id": "918a98a7-5853-47aa-a0dc-ace1d4edb456",
   "metadata": {},
   "outputs": [
    {
     "data": {
      "text/plain": [
       "array([0.41, 0.75, 0.73])"
      ]
     },
     "execution_count": 17,
     "metadata": {},
     "output_type": "execute_result"
    }
   ],
   "source": [
    "l1"
   ]
  },
  {
   "cell_type": "code",
   "execution_count": 33,
   "id": "d0de2e87-33a4-4726-8c2e-867f8443399e",
   "metadata": {},
   "outputs": [],
   "source": [
    "output1=[max(0,l1[0]),max(0,l1[1]),max(0,l1[2])]                 # using activation function "
   ]
  },
  {
   "cell_type": "code",
   "execution_count": 20,
   "id": "80720f18-2672-407f-be55-60c27e8ccd00",
   "metadata": {},
   "outputs": [
    {
     "data": {
      "text/plain": [
       "[0.41000000000000003, 0.75, 0.73]"
      ]
     },
     "execution_count": 20,
     "metadata": {},
     "output_type": "execute_result"
    }
   ],
   "source": [
    "output1"
   ]
  },
  {
   "cell_type": "code",
   "execution_count": 21,
   "id": "fa236bb1-770f-48b1-99ec-d72c755d0ddc",
   "metadata": {},
   "outputs": [],
   "source": [
    "layer_2=np.dot(output1,weights_2)                 #product of  output1 with weights 2"
   ]
  },
  {
   "cell_type": "code",
   "execution_count": 23,
   "id": "b39a06e5-f7c3-4caf-8945-d10c872ffc8e",
   "metadata": {},
   "outputs": [],
   "source": [
    "l2=layer_2 + b2"
   ]
  },
  {
   "cell_type": "code",
   "execution_count": 24,
   "id": "932d09f6-9ede-4548-b81b-ac93ecd008a9",
   "metadata": {},
   "outputs": [
    {
     "data": {
      "text/plain": [
       "array([0.998, 0.944, 0.731])"
      ]
     },
     "execution_count": 24,
     "metadata": {},
     "output_type": "execute_result"
    }
   ],
   "source": [
    "l2"
   ]
  },
  {
   "cell_type": "code",
   "execution_count": 34,
   "id": "b60bbb0e-d5bf-4e9d-9faf-5c65e2f68f1e",
   "metadata": {},
   "outputs": [],
   "source": [
    "output2=[max(0,l2[0]),max(0,l2[1]),max(0,l2[2])]             # using activation function"
   ]
  },
  {
   "cell_type": "code",
   "execution_count": 26,
   "id": "d061bb66-fc43-4d7b-9ffc-678d11dc55f5",
   "metadata": {},
   "outputs": [
    {
     "data": {
      "text/plain": [
       "[0.998, 0.9439999999999998, 0.731]"
      ]
     },
     "execution_count": 26,
     "metadata": {},
     "output_type": "execute_result"
    }
   ],
   "source": [
    "output2"
   ]
  },
  {
   "cell_type": "code",
   "execution_count": 35,
   "id": "356b9842-9014-41d5-9e28-fb58b1b754f6",
   "metadata": {},
   "outputs": [],
   "source": [
    "layer_3=np.dot(output2,weights_3)                      #product of  output2 with weights 3"
   ]
  },
  {
   "cell_type": "code",
   "execution_count": 28,
   "id": "320b6a96-1b2e-428f-94e5-58d6ecca3b4d",
   "metadata": {},
   "outputs": [
    {
     "data": {
      "text/plain": [
       "array([0.7503, 1.8233, 1.4775])"
      ]
     },
     "execution_count": 28,
     "metadata": {},
     "output_type": "execute_result"
    }
   ],
   "source": [
    "l3=layer_3 + b3\n",
    "l3"
   ]
  },
  {
   "cell_type": "code",
   "execution_count": 37,
   "id": "3c6f6b89-9380-4cb3-b69d-0c9cdd5c2010",
   "metadata": {},
   "outputs": [],
   "source": [
    "output3=[max(0,l3[0]),max(0,l3[1]),max(0,l3[2])]             # using activation functionoutput3                                                "
   ]
  },
  {
   "cell_type": "code",
   "execution_count": null,
   "id": "9a52c675-1dbe-4ce2-be45-0eb8f93bfef8",
   "metadata": {},
   "outputs": [],
   "source": []
  }
 ],
 "metadata": {
  "kernelspec": {
   "display_name": "Python 3",
   "language": "python",
   "name": "python3"
  },
  "language_info": {
   "codemirror_mode": {
    "name": "ipython",
    "version": 3
   },
   "file_extension": ".py",
   "mimetype": "text/x-python",
   "name": "python",
   "nbconvert_exporter": "python",
   "pygments_lexer": "ipython3",
   "version": "3.8.8"
  }
 },
 "nbformat": 4,
 "nbformat_minor": 5
}
