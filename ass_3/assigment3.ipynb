{
 "cells": [
  {
   "cell_type": "code",
   "execution_count": 105,
   "id": "d3908968-f7d0-46a7-a3c4-add4ebb88d3e",
   "metadata": {},
   "outputs": [],
   "source": [
    "#name waqar khan  reg no 2018507\n",
    "import numpy as np\n",
    "import cv2\n",
    "import matplotlib.pyplot as plt"
   ]
  },
  {
   "cell_type": "code",
   "execution_count": 106,
   "id": "72911418-63d7-4af3-a988-49baf3213818",
   "metadata": {},
   "outputs": [],
   "source": [
    "def zero_pad(X, pad):\n",
    "    \"\"\"\n",
    "    Arguments:\n",
    "    X -- python numpy array of shape (n_H, n_W) representing a an image\n",
    "    pad -- integer, amount of padding around each image on vertical and horizontal dimensions\n",
    "    \"\"\"\n",
    "    #your code goes here\n",
    "    #check np.pad()\n",
    "    X_pad = np.pad(X, ((pad,pad), (pad,pad)), 'constant', constant_values = (0,0))\n",
    "    return X_pad"
   ]
  },
  {
   "cell_type": "code",
   "execution_count": 109,
   "id": "66990066-189d-420d-9c07-443d50c4df82",
   "metadata": {},
   "outputs": [
    {
     "name": "stdin",
     "output_type": "stream",
     "text": [
      "enter the value that you want to padding on image  8\n"
     ]
    },
    {
     "name": "stdout",
     "output_type": "stream",
     "text": [
      "x.shape = (12, 3)\n",
      "x_pad.shape = (28, 19)\n",
      "x[1,1] = 0.8654076293246785\n",
      "x_pad[1,1] = 0.0\n"
     ]
    },
    {
     "data": {
      "text/plain": [
       "<matplotlib.image.AxesImage at 0x1bc7a773f10>"
      ]
     },
     "execution_count": 109,
     "metadata": {},
     "output_type": "execute_result"
    },
    {
     "data": {
      "image/png": "[encoded data removed]",
      "text/plain": [
       "<Figure size 432x288 with 2 Axes>"
      ]
     },
     "metadata": {
      "needs_background": "light"
     },
     "output_type": "display_data"
    }
   ],
   "source": [
    "np.random.seed(1)\n",
    "x = np.random.randn(12, 3)\n",
    "\n",
    "#plt.imshow(x)\n",
    "pad=int(input(\"enter the value that you want to padding on image \"))\n",
    "x_pad=zero_pad(x,pad)\n",
    "print (\"x.shape =\", x.shape)\n",
    "print (\"x_pad.shape =\", x_pad.shape)\n",
    "print (\"x[1,1] =\", x[1,1])\n",
    "print (\"x_pad[1,1] =\", x_pad[1,1])\n",
    "\n",
    "fig, axarr = plt.subplots(1, 2)\n",
    "axarr[0].set_title('x')\n",
    "axarr[0].imshow(x,cmap='gray')\n",
    "axarr[1].set_title('x_pad')\n",
    "axarr[1].imshow(x_pad,cmap='gray')"
   ]
  },
  {
   "cell_type": "code",
   "execution_count": 111,
   "id": "a8bb8eb2-66cc-4cc0-a7dd-3c6a368fe3d5",
   "metadata": {},
   "outputs": [],
   "source": [
    "def conv2D(inp, F, pad, stride):\n",
    "    # Cross Correlation\n",
    "    F = np.flipud(np.fliplr(F))\n",
    "    (n_H,n_W) = inp.shape\n",
    "    (f_H,f_W) = F.shape\n",
    "    # Shape of Output Convolution\n",
    "    xOutput = int(((n_H - f_H + 2 * pad) / stride) + 1)\n",
    "    yOutput = int(((n_W - f_W + 2 * pad) / stride) + 1)\n",
    "    Z = np.zeros((xOutput, yOutput))\n",
    "\n",
    "    # Apply Equal Padding to All Sides\n",
    "    if pad != 0:\n",
    "        inpPad = np.zeros((n_H + pad * 2, n_W + pad * 2))\n",
    "        inpPad[int(pad):int(-1 * pad), int(pad):int(-1 * pad)] = inp\n",
    "        print(inpPad)\n",
    "    else:\n",
    "        inpPad = inp\n",
    "\n",
    "    # Iterate through inp\n",
    "    for y in range(n_W):\n",
    "        # Exit Convolution\n",
    "        if y > n_W - f_W:\n",
    "            break\n",
    "        # Only Convolve if y has gone down by the specified Strides\n",
    "        if y % stride == 0:\n",
    "            for x in range(n_H):\n",
    "                # Go to next row once F is out of bounds\n",
    "                if x > n_H - f_H:\n",
    "                    break\n",
    "                try:\n",
    "                    # Only Convolve if x has moved by the specified Strides\n",
    "                    if x % stride == 0:\n",
    "                        Z[x, y] = (F * inpPad[x: x + f_H, y: y + f_W]).sum()\n",
    "                except:\n",
    "                    break\n",
    "                    \n",
    "\n",
    "    return Z"
   ]
  },
  {
   "cell_type": "code",
   "execution_count": 112,
   "id": "1ff1ae53-7114-4782-8314-51e225d7f420",
   "metadata": {},
   "outputs": [],
   "source": [
    "duck=cv2.imread(\"D:\\downloads from chrom\\duck.jpg\")\n",
    "grayduck=cv2.cvtColor(duck, cv2.COLOR_BGR2GRAY)\n",
    "cv2.imshow(\"\",grayduck)\n",
    "cv2.waitKey(0)\n",
    "cv2.destroyAllWindows()"
   ]
  },
  {
   "cell_type": "code",
   "execution_count": 113,
   "id": "4ee56a40-d064-4541-a08c-8e290d74bd71",
   "metadata": {},
   "outputs": [],
   "source": [
    "# convert duck to grayscale (Hint: see cv2.cvtColor)\n",
    "grayduck=cv2.cvtColor(duck, cv2.COLOR_BGR2GRAY)\n",
    "cv2.imshow(\"\",grayduck)\n",
    "cv2.waitKey(0)\n",
    "cv2.destroyAllWindows()"
   ]
  },
  {
   "cell_type": "code",
   "execution_count": 116,
   "id": "cbdb380b-41ef-405e-abf8-097615ac2314",
   "metadata": {},
   "outputs": [],
   "source": [
    "filter = np.array([[1, 0, -1], [2, 0, -2], [1, 0, -1]],dtype=\"int\")\n",
    "pad=0\n",
    "stride=1\n",
    "data1=conv2D(grayduck,filter,pad,stride)\n",
    "cv2.imshow(\"\",data1)\n",
    "cv2.waitKey(0)\n",
    "cv2.destroyAllWindows()"
   ]
  },
  {
   "cell_type": "code",
   "execution_count": 117,
   "id": "d29c4e8d-e77c-41ca-8a6d-2e6d2862bb4e",
   "metadata": {},
   "outputs": [],
   "source": [
    "# Initialize sobel vertical edge filter\n",
    "filter1 = np.array([[-1, -2, -1], [0, 0, 0], [1, 2, 1]])\n",
    "# Use your Conv2D filter to get vertical edge filter and display them.\n",
    "pad=0\n",
    "stride=1\n",
    "data1=conv2D(grayduck,filter1,pad,stride)\n",
    "cv2.imshow(\"\",data1)\n",
    "cv2.waitKey(0)\n",
    "cv2.destroyAllWindows()"
   ]
  },
  {
   "cell_type": "code",
   "execution_count": 118,
   "id": "41d60234-d0ca-44e1-ad82-a1ccb6bf5462",
   "metadata": {},
   "outputs": [],
   "source": [
    "# combine horizontal and vertical edges and display the final results\n",
    "f=filter+filter1\n",
    "pad=0\n",
    "stride=1\n",
    "data2=conv2D(grayduck,f, pad, stride)\n",
    "cv2.imshow(\"\",data2)\n",
    "cv2.waitKey(0)\n",
    "cv2.destroyAllWindows()"
   ]
  },
  {
   "cell_type": "markdown",
   "id": "e337d602-6e4a-4261-a4ed-a77093c2b7e3",
   "metadata": {},
   "source": [
    "\n",
    "In this part you will make a filter bank for skin textures given in skins folder and then use those to classify 'unknown.jpg'. You will perform the following steps:\n",
    "\n",
    "Read skin images and convert them to grayscale.\n",
    "Resize the images to 64x64. (Hint: see cv2.resize).\n",
    "Initialize any 6 filters. This will be your filter bank.\n",
    "Create a 6D feature vector for each image using window size of 8. (Use your Conv2D function for this).\n",
    "Display each feature vector as an image i.e. use plt.imshow.\n",
    "Do the above steps for unknown.jpg and calculate it's feature vector.\n",
    "Calculate and display the equilidean distance of unknown.jpg's feature with each of skin's feature vector.\n",
    "Predict the class name of unknown.jpg based on the euclidean distances calculated in previous step."
   ]
  },
  {
   "cell_type": "code",
   "execution_count": 119,
   "id": "8ad91d52-97a7-4660-abcc-6d0ccfb89d6e",
   "metadata": {},
   "outputs": [],
   "source": [
    "import glob\n",
    "n=0\n",
    "#select the path\n",
    "path = \"D:\\skins\\*.*\"\n",
    "for bb,file in  enumerate(glob.glob(path)):\n",
    "    image_read = cv2.imread(file)\n",
    "    # conversion numpy array into grapscale image to show\n",
    "    resized = cv2.resize(image_read , (64,64),interpolation = cv2.INTER_AREA)\n",
    "    cv2.imshow(\"Resized image\", resized)\n",
    "    c = cv2.cvtColor(resized, cv2.COLOR_BGR2GRAY)\n",
    "    cv2.imwrite('newfolder{}.jpg'.format(bb),c)\n",
    "    cv2.imshow('Color image', c)\n",
    "    # resize image\n",
    "    n=n+1\n",
    "    # wait for  second\n",
    "    k = cv2.waitKey(10000)\n",
    "    # destroy the window\n",
    "    cv2.destroyAllWindows()"
   ]
  },
  {
   "cell_type": "code",
   "execution_count": 120,
   "id": "cb77c722-ee22-4b68-a658-6d3d5e9027e9",
   "metadata": {},
   "outputs": [],
   "source": [
    "f0 = np.array([[1, 0, -1], [2, 0, -2], [1, 0, -1]],dtype=\"int\")\n",
    "f1 = np.array([[-1, -2, -1], [0, 0, 0], [1, 2, 1]],dtype=\"int\")\n",
    "f2 = np.array([[1, 0, -1], [1, 0, -1], [1, 0, -1]],dtype=\"int\")\n",
    "f3 = np.array([[-1, -1, -1], [0, 0, 0], [1, 1, 1]],dtype=\"int\")\n",
    "f4 = np.array([[0, 0, -1], [0, 1, 0], [0, 0, 0]],dtype=\"int\")\n",
    "f5 = np.array([[-1, 0, 0], [0, 1, 0], [0, 0, 0]],dtype=\"int\")\n",
    "f=[f0,f1,f2,f3,f4,f5]"
   ]
  },
  {
   "cell_type": "code",
   "execution_count": 121,
   "id": "ff8b90e9-4b0e-4b22-bfab-de2f94f967b4",
   "metadata": {},
   "outputs": [
    {
     "name": "stdout",
     "output_type": "stream",
     "text": [
      "[[  0.   0.   0. ...   0.   0.   0.]\n",
      " [  0. 176. 145. ... 115.  31.   0.]\n",
      " [  0. 123. 173. ... 112.  28.   0.]\n",
      " ...\n",
      " [  0.  94.  88. ...  71.  49.   0.]\n",
      " [  0.  34.  69. ...  19.  13.   0.]\n",
      " [  0.   0.   0. ...   0.   0.   0.]]\n",
      "[[  0.   0.   0. ...   0.   0.   0.]\n",
      " [  0. 176. 145. ... 115.  31.   0.]\n",
      " [  0. 123. 173. ... 112.  28.   0.]\n",
      " ...\n",
      " [  0.  94.  88. ...  71.  49.   0.]\n",
      " [  0.  34.  69. ...  19.  13.   0.]\n",
      " [  0.   0.   0. ...   0.   0.   0.]]\n",
      "[[  0.   0.   0. ...   0.   0.   0.]\n",
      " [  0. 176. 145. ... 115.  31.   0.]\n",
      " [  0. 123. 173. ... 112.  28.   0.]\n",
      " ...\n",
      " [  0.  94.  88. ...  71.  49.   0.]\n",
      " [  0.  34.  69. ...  19.  13.   0.]\n",
      " [  0.   0.   0. ...   0.   0.   0.]]\n",
      "[[  0.   0.   0. ...   0.   0.   0.]\n",
      " [  0. 176. 145. ... 115.  31.   0.]\n",
      " [  0. 123. 173. ... 112.  28.   0.]\n",
      " ...\n",
      " [  0.  94.  88. ...  71.  49.   0.]\n",
      " [  0.  34.  69. ...  19.  13.   0.]\n",
      " [  0.   0.   0. ...   0.   0.   0.]]\n",
      "[[  0.   0.   0. ...   0.   0.   0.]\n",
      " [  0. 176. 145. ... 115.  31.   0.]\n",
      " [  0. 123. 173. ... 112.  28.   0.]\n",
      " ...\n",
      " [  0.  94.  88. ...  71.  49.   0.]\n",
      " [  0.  34.  69. ...  19.  13.   0.]\n",
      " [  0.   0.   0. ...   0.   0.   0.]]\n",
      "[[  0.   0.   0. ...   0.   0.   0.]\n",
      " [  0. 176. 145. ... 115.  31.   0.]\n",
      " [  0. 123. 173. ... 112.  28.   0.]\n",
      " ...\n",
      " [  0.  94.  88. ...  71.  49.   0.]\n",
      " [  0.  34.  69. ...  19.  13.   0.]\n",
      " [  0.   0.   0. ...   0.   0.   0.]]\n"
     ]
    },
    {
     "data": {
      "image/png": "[encoded data removed]",
      "text/plain": [
       "<Figure size 432x288 with 1 Axes>"
      ]
     },
     "metadata": {
      "needs_background": "light"
     },
     "output_type": "display_data"
    }
   ],
   "source": [
    "pad=1\n",
    "stride=8\n",
    "data2 = cv2.imread(\"newfolder0.jpg\") \n",
    "data3=cv2.cvtColor(data2, cv2.COLOR_BGR2GRAY)\n",
    "for i in f:\n",
    "        data0=conv2D(data3,i, pad, stride)\n",
    "        i=i+1\n",
    "        plt.imshow(data0)\n",
    "       "
   ]
  },
  {
   "cell_type": "code",
   "execution_count": 122,
   "id": "c0b6b5b5-03ed-44a2-8184-d77b415878fb",
   "metadata": {},
   "outputs": [
    {
     "name": "stdout",
     "output_type": "stream",
     "text": [
      "[[  0.   0.   0. ...   0.   0.   0.]\n",
      " [  0. 162. 150. ... 145. 144.   0.]\n",
      " [  0. 125. 171. ... 144. 134.   0.]\n",
      " ...\n",
      " [  0. 142. 116. ... 102.  88.   0.]\n",
      " [  0. 146. 126. ... 109.  97.   0.]\n",
      " [  0.   0.   0. ...   0.   0.   0.]]\n",
      "[[  0.   0.   0. ...   0.   0.   0.]\n",
      " [  0. 162. 150. ... 145. 144.   0.]\n",
      " [  0. 125. 171. ... 144. 134.   0.]\n",
      " ...\n",
      " [  0. 142. 116. ... 102.  88.   0.]\n",
      " [  0. 146. 126. ... 109.  97.   0.]\n",
      " [  0.   0.   0. ...   0.   0.   0.]]\n",
      "[[  0.   0.   0. ...   0.   0.   0.]\n",
      " [  0. 162. 150. ... 145. 144.   0.]\n",
      " [  0. 125. 171. ... 144. 134.   0.]\n",
      " ...\n",
      " [  0. 142. 116. ... 102.  88.   0.]\n",
      " [  0. 146. 126. ... 109.  97.   0.]\n",
      " [  0.   0.   0. ...   0.   0.   0.]]\n",
      "[[  0.   0.   0. ...   0.   0.   0.]\n",
      " [  0. 162. 150. ... 145. 144.   0.]\n",
      " [  0. 125. 171. ... 144. 134.   0.]\n",
      " ...\n",
      " [  0. 142. 116. ... 102.  88.   0.]\n",
      " [  0. 146. 126. ... 109.  97.   0.]\n",
      " [  0.   0.   0. ...   0.   0.   0.]]\n",
      "[[  0.   0.   0. ...   0.   0.   0.]\n",
      " [  0. 162. 150. ... 145. 144.   0.]\n",
      " [  0. 125. 171. ... 144. 134.   0.]\n",
      " ...\n",
      " [  0. 142. 116. ... 102.  88.   0.]\n",
      " [  0. 146. 126. ... 109.  97.   0.]\n",
      " [  0.   0.   0. ...   0.   0.   0.]]\n",
      "[[  0.   0.   0. ...   0.   0.   0.]\n",
      " [  0. 162. 150. ... 145. 144.   0.]\n",
      " [  0. 125. 171. ... 144. 134.   0.]\n",
      " ...\n",
      " [  0. 142. 116. ... 102.  88.   0.]\n",
      " [  0. 146. 126. ... 109.  97.   0.]\n",
      " [  0.   0.   0. ...   0.   0.   0.]]\n"
     ]
    },
    {
     "data": {
      "image/png": "[encoded data removed]",
      "text/plain": [
       "<Figure size 432x288 with 1 Axes>"
      ]
     },
     "metadata": {
      "needs_background": "light"
     },
     "output_type": "display_data"
    }
   ],
   "source": [
    "#for 2nd image\n",
    "pad=1\n",
    "stride=8\n",
    "data2 = cv2.imread(\"newfolder1.jpg\") \n",
    "data3=cv2.cvtColor(data2, cv2.COLOR_BGR2GRAY)\n",
    "for i in f:\n",
    "        data9=conv2D(data3,i, pad, stride)\n",
    "        i=i+1\n",
    "        plt.imshow(data9)"
   ]
  },
  {
   "cell_type": "code",
   "execution_count": 123,
   "id": "82c55c8c-d919-4063-9657-8d09ce61f69a",
   "metadata": {},
   "outputs": [
    {
     "name": "stdout",
     "output_type": "stream",
     "text": [
      "[[  0.   0.   0. ...   0.   0.   0.]\n",
      " [  0. 140. 175. ... 130. 134.   0.]\n",
      " [  0. 177. 146. ... 153. 112.   0.]\n",
      " ...\n",
      " [  0.  21.  96. ...   4.  52.   0.]\n",
      " [  0.   7. 134. ...   4.  41.   0.]\n",
      " [  0.   0.   0. ...   0.   0.   0.]]\n",
      "[[  0.   0.   0. ...   0.   0.   0.]\n",
      " [  0. 140. 175. ... 130. 134.   0.]\n",
      " [  0. 177. 146. ... 153. 112.   0.]\n",
      " ...\n",
      " [  0.  21.  96. ...   4.  52.   0.]\n",
      " [  0.   7. 134. ...   4.  41.   0.]\n",
      " [  0.   0.   0. ...   0.   0.   0.]]\n",
      "[[  0.   0.   0. ...   0.   0.   0.]\n",
      " [  0. 140. 175. ... 130. 134.   0.]\n",
      " [  0. 177. 146. ... 153. 112.   0.]\n",
      " ...\n",
      " [  0.  21.  96. ...   4.  52.   0.]\n",
      " [  0.   7. 134. ...   4.  41.   0.]\n",
      " [  0.   0.   0. ...   0.   0.   0.]]\n",
      "[[  0.   0.   0. ...   0.   0.   0.]\n",
      " [  0. 140. 175. ... 130. 134.   0.]\n",
      " [  0. 177. 146. ... 153. 112.   0.]\n",
      " ...\n",
      " [  0.  21.  96. ...   4.  52.   0.]\n",
      " [  0.   7. 134. ...   4.  41.   0.]\n",
      " [  0.   0.   0. ...   0.   0.   0.]]\n",
      "[[  0.   0.   0. ...   0.   0.   0.]\n",
      " [  0. 140. 175. ... 130. 134.   0.]\n",
      " [  0. 177. 146. ... 153. 112.   0.]\n",
      " ...\n",
      " [  0.  21.  96. ...   4.  52.   0.]\n",
      " [  0.   7. 134. ...   4.  41.   0.]\n",
      " [  0.   0.   0. ...   0.   0.   0.]]\n",
      "[[  0.   0.   0. ...   0.   0.   0.]\n",
      " [  0. 140. 175. ... 130. 134.   0.]\n",
      " [  0. 177. 146. ... 153. 112.   0.]\n",
      " ...\n",
      " [  0.  21.  96. ...   4.  52.   0.]\n",
      " [  0.   7. 134. ...   4.  41.   0.]\n",
      " [  0.   0.   0. ...   0.   0.   0.]]\n"
     ]
    },
    {
     "data": {
      "image/png": "[encoded data removed]",
      "text/plain": [
       "<Figure size 432x288 with 1 Axes>"
      ]
     },
     "metadata": {
      "needs_background": "light"
     },
     "output_type": "display_data"
    }
   ],
   "source": [
    "#for 3nd image\n",
    "pad=1\n",
    "stride=8\n",
    "data2 = cv2.imread(\"newfolder2.jpg\") \n",
    "data3=cv2.cvtColor(data2, cv2.COLOR_BGR2GRAY)\n",
    "for i in f:\n",
    "        data8=conv2D(data3,i, pad, stride)\n",
    "        i=i+1\n",
    "        plt.imshow(data8)"
   ]
  },
  {
   "cell_type": "code",
   "execution_count": 124,
   "id": "38b0f1d2-35e5-4554-b81c-d321dfcd2219",
   "metadata": {},
   "outputs": [
    {
     "name": "stdout",
     "output_type": "stream",
     "text": [
      "[[  0.   0.   0. ...   0.   0.   0.]\n",
      " [  0.  93. 200. ...  66. 109.   0.]\n",
      " [  0.  61. 187. ...  78.  52.   0.]\n",
      " ...\n",
      " [  0.  95.  20. ... 118.  27.   0.]\n",
      " [  0.  62.  41. ...  52.  23.   0.]\n",
      " [  0.   0.   0. ...   0.   0.   0.]]\n",
      "[[  0.   0.   0. ...   0.   0.   0.]\n",
      " [  0.  93. 200. ...  66. 109.   0.]\n",
      " [  0.  61. 187. ...  78.  52.   0.]\n",
      " ...\n",
      " [  0.  95.  20. ... 118.  27.   0.]\n",
      " [  0.  62.  41. ...  52.  23.   0.]\n",
      " [  0.   0.   0. ...   0.   0.   0.]]\n",
      "[[  0.   0.   0. ...   0.   0.   0.]\n",
      " [  0.  93. 200. ...  66. 109.   0.]\n",
      " [  0.  61. 187. ...  78.  52.   0.]\n",
      " ...\n",
      " [  0.  95.  20. ... 118.  27.   0.]\n",
      " [  0.  62.  41. ...  52.  23.   0.]\n",
      " [  0.   0.   0. ...   0.   0.   0.]]\n",
      "[[  0.   0.   0. ...   0.   0.   0.]\n",
      " [  0.  93. 200. ...  66. 109.   0.]\n",
      " [  0.  61. 187. ...  78.  52.   0.]\n",
      " ...\n",
      " [  0.  95.  20. ... 118.  27.   0.]\n",
      " [  0.  62.  41. ...  52.  23.   0.]\n",
      " [  0.   0.   0. ...   0.   0.   0.]]\n",
      "[[  0.   0.   0. ...   0.   0.   0.]\n",
      " [  0.  93. 200. ...  66. 109.   0.]\n",
      " [  0.  61. 187. ...  78.  52.   0.]\n",
      " ...\n",
      " [  0.  95.  20. ... 118.  27.   0.]\n",
      " [  0.  62.  41. ...  52.  23.   0.]\n",
      " [  0.   0.   0. ...   0.   0.   0.]]\n",
      "[[  0.   0.   0. ...   0.   0.   0.]\n",
      " [  0.  93. 200. ...  66. 109.   0.]\n",
      " [  0.  61. 187. ...  78.  52.   0.]\n",
      " ...\n",
      " [  0.  95.  20. ... 118.  27.   0.]\n",
      " [  0.  62.  41. ...  52.  23.   0.]\n",
      " [  0.   0.   0. ...   0.   0.   0.]]\n"
     ]
    },
    {
     "data": {
      "image/png": "[encoded data removed]",
      "text/plain": [
       "<Figure size 432x288 with 1 Axes>"
      ]
     },
     "metadata": {
      "needs_background": "light"
     },
     "output_type": "display_data"
    }
   ],
   "source": [
    "#for 4th image\n",
    "pad=1\n",
    "stride=8\n",
    "data2 = cv2.imread(\"newfolder3.jpg\") \n",
    "data3=cv2.cvtColor(data2, cv2.COLOR_BGR2GRAY)\n",
    "for i in f:\n",
    "        data7=conv2D(data3,i, pad, stride)\n",
    "        i=i+1\n",
    "        plt.imshow(data7)"
   ]
  },
  {
   "cell_type": "code",
   "execution_count": 125,
   "id": "5a964ca5-5905-4234-805f-311c996f9ad2",
   "metadata": {},
   "outputs": [
    {
     "name": "stdout",
     "output_type": "stream",
     "text": [
      "[[  0.   0.   0. ...   0.   0.   0.]\n",
      " [  0. 132. 128. ... 171.  47.   0.]\n",
      " [  0. 122. 125. ... 183.  50.   0.]\n",
      " ...\n",
      " [  0. 129. 148. ...  49. 108.   0.]\n",
      " [  0.  77. 141. ...  81. 148.   0.]\n",
      " [  0.   0.   0. ...   0.   0.   0.]]\n",
      "[[  0.   0.   0. ...   0.   0.   0.]\n",
      " [  0. 132. 128. ... 171.  47.   0.]\n",
      " [  0. 122. 125. ... 183.  50.   0.]\n",
      " ...\n",
      " [  0. 129. 148. ...  49. 108.   0.]\n",
      " [  0.  77. 141. ...  81. 148.   0.]\n",
      " [  0.   0.   0. ...   0.   0.   0.]]\n",
      "[[  0.   0.   0. ...   0.   0.   0.]\n",
      " [  0. 132. 128. ... 171.  47.   0.]\n",
      " [  0. 122. 125. ... 183.  50.   0.]\n",
      " ...\n",
      " [  0. 129. 148. ...  49. 108.   0.]\n",
      " [  0.  77. 141. ...  81. 148.   0.]\n",
      " [  0.   0.   0. ...   0.   0.   0.]]\n",
      "[[  0.   0.   0. ...   0.   0.   0.]\n",
      " [  0. 132. 128. ... 171.  47.   0.]\n",
      " [  0. 122. 125. ... 183.  50.   0.]\n",
      " ...\n",
      " [  0. 129. 148. ...  49. 108.   0.]\n",
      " [  0.  77. 141. ...  81. 148.   0.]\n",
      " [  0.   0.   0. ...   0.   0.   0.]]\n",
      "[[  0.   0.   0. ...   0.   0.   0.]\n",
      " [  0. 132. 128. ... 171.  47.   0.]\n",
      " [  0. 122. 125. ... 183.  50.   0.]\n",
      " ...\n",
      " [  0. 129. 148. ...  49. 108.   0.]\n",
      " [  0.  77. 141. ...  81. 148.   0.]\n",
      " [  0.   0.   0. ...   0.   0.   0.]]\n",
      "[[  0.   0.   0. ...   0.   0.   0.]\n",
      " [  0. 132. 128. ... 171.  47.   0.]\n",
      " [  0. 122. 125. ... 183.  50.   0.]\n",
      " ...\n",
      " [  0. 129. 148. ...  49. 108.   0.]\n",
      " [  0.  77. 141. ...  81. 148.   0.]\n",
      " [  0.   0.   0. ...   0.   0.   0.]]\n"
     ]
    },
    {
     "data": {
      "image/png": "[encoded data removed]",
      "text/plain": [
       "<Figure size 432x288 with 1 Axes>"
      ]
     },
     "metadata": {
      "needs_background": "light"
     },
     "output_type": "display_data"
    }
   ],
   "source": [
    "#for 5th image\n",
    "pad=1\n",
    "stride=8\n",
    "data2 = cv2.imread(\"newfolder4.jpg\") \n",
    "data3=cv2.cvtColor(data2, cv2.COLOR_BGR2GRAY)\n",
    "for i in f:\n",
    "        data10=conv2D(data3,i, pad, stride)\n",
    "        i=i+1\n",
    "        plt.imshow(data10)"
   ]
  },
  {
   "cell_type": "code",
   "execution_count": 126,
   "id": "e63a2bf8-0977-42b6-8032-f5033f14188b",
   "metadata": {},
   "outputs": [
    {
     "name": "stdout",
     "output_type": "stream",
     "text": [
      "(64, 64)\n"
     ]
    }
   ],
   "source": [
    "#unkowm image\n",
    "pad=1\n",
    "stride=8\n",
    "data2 = cv2.imread(\"newfolder4.jpg\") \n",
    "resized = cv2.resize(data2, (64,64),interpolation = cv2.INTER_AREA)\n",
    "data3=cv2.cvtColor(resized, cv2.COLOR_BGR2GRAY)\n",
    "print(data3.shape)\n",
    "cv2.imwrite('newunkown.jpg',data3)\n",
    "k = cv2.waitKey(10000)\n",
    "# destroy the window\n",
    "cv2.destroyAllWindows()\n"
   ]
  },
  {
   "cell_type": "code",
   "execution_count": 127,
   "id": "b2202243-53e2-4e13-ac35-840c10a3fdab",
   "metadata": {},
   "outputs": [],
   "source": [
    "da2 = cv2.imread(\"newunkown.jpg\")\n",
    "cv2.imshow(\"\",da2)\n",
    "k = cv2.waitKey(10000)\n",
    "# destroy the window\n",
    "cv2.destroyAllWindows()\n"
   ]
  },
  {
   "cell_type": "code",
   "execution_count": 128,
   "id": "c7f5248d-8021-4226-9129-b832d0252897",
   "metadata": {},
   "outputs": [
    {
     "name": "stdout",
     "output_type": "stream",
     "text": [
      "[[  0.   0.   0. ...   0.   0.   0.]\n",
      " [  0. 132. 128. ... 171.  47.   0.]\n",
      " [  0. 122. 125. ... 183.  50.   0.]\n",
      " ...\n",
      " [  0. 129. 148. ...  49. 108.   0.]\n",
      " [  0.  77. 141. ...  81. 148.   0.]\n",
      " [  0.   0.   0. ...   0.   0.   0.]]\n",
      "[[  0.   0.   0. ...   0.   0.   0.]\n",
      " [  0. 132. 128. ... 171.  47.   0.]\n",
      " [  0. 122. 125. ... 183.  50.   0.]\n",
      " ...\n",
      " [  0. 129. 148. ...  49. 108.   0.]\n",
      " [  0.  77. 141. ...  81. 148.   0.]\n",
      " [  0.   0.   0. ...   0.   0.   0.]]\n",
      "[[  0.   0.   0. ...   0.   0.   0.]\n",
      " [  0. 132. 128. ... 171.  47.   0.]\n",
      " [  0. 122. 125. ... 183.  50.   0.]\n",
      " ...\n",
      " [  0. 129. 148. ...  49. 108.   0.]\n",
      " [  0.  77. 141. ...  81. 148.   0.]\n",
      " [  0.   0.   0. ...   0.   0.   0.]]\n",
      "[[  0.   0.   0. ...   0.   0.   0.]\n",
      " [  0. 132. 128. ... 171.  47.   0.]\n",
      " [  0. 122. 125. ... 183.  50.   0.]\n",
      " ...\n",
      " [  0. 129. 148. ...  49. 108.   0.]\n",
      " [  0.  77. 141. ...  81. 148.   0.]\n",
      " [  0.   0.   0. ...   0.   0.   0.]]\n",
      "[[  0.   0.   0. ...   0.   0.   0.]\n",
      " [  0. 132. 128. ... 171.  47.   0.]\n",
      " [  0. 122. 125. ... 183.  50.   0.]\n",
      " ...\n",
      " [  0. 129. 148. ...  49. 108.   0.]\n",
      " [  0.  77. 141. ...  81. 148.   0.]\n",
      " [  0.   0.   0. ...   0.   0.   0.]]\n",
      "[[  0.   0.   0. ...   0.   0.   0.]\n",
      " [  0. 132. 128. ... 171.  47.   0.]\n",
      " [  0. 122. 125. ... 183.  50.   0.]\n",
      " ...\n",
      " [  0. 129. 148. ...  49. 108.   0.]\n",
      " [  0.  77. 141. ...  81. 148.   0.]\n",
      " [  0.   0.   0. ...   0.   0.   0.]]\n"
     ]
    },
    {
     "data": {
      "image/png": "[encoded data removed]",
      "text/plain": [
       "<Figure size 432x288 with 1 Axes>"
      ]
     },
     "metadata": {
      "needs_background": "light"
     },
     "output_type": "display_data"
    }
   ],
   "source": [
    "pad=1\n",
    "stride=8\n",
    "data2 = cv2.imread(\"newunkown.jpg\") \n",
    "data3=cv2.cvtColor(data2, cv2.COLOR_BGR2GRAY)\n",
    "resized = cv2.resize(c , (64,64),interpolation = cv2.INTER_AREA)\n",
    "for i in f:\n",
    "        data6=conv2D(data3,i, pad, stride)\n",
    "        i=i+1\n",
    "        plt.imshow(data6,cmap=\"gray\")"
   ]
  },
  {
   "cell_type": "code",
   "execution_count": 129,
   "id": "138f21bb-d3dd-4a26-9f28-943d84bbcc5c",
   "metadata": {},
   "outputs": [],
   "source": [
    "import math\n",
    "def calculateDistance(i1, i2):\n",
    "    \n",
    "    return math.sqrt(np.sum((i1-i2)**2))"
   ]
  },
  {
   "cell_type": "code",
   "execution_count": 130,
   "id": "7af3cec2-6bc3-4c87-9d5c-2ddc97ebd658",
   "metadata": {},
   "outputs": [
    {
     "name": "stdout",
     "output_type": "stream",
     "text": [
      "image are different \n"
     ]
    }
   ],
   "source": [
    "if calculateDistance(data6, data7)==0:\n",
    "    print(\" both are same image\")\n",
    "else:\n",
    "    print(\"image are different \")"
   ]
  },
  {
   "cell_type": "code",
   "execution_count": 131,
   "id": "6ff300ae-1a31-4a13-a92d-4d51fe16fd37",
   "metadata": {},
   "outputs": [
    {
     "name": "stdout",
     "output_type": "stream",
     "text": [
      "image are different \n"
     ]
    }
   ],
   "source": [
    "if calculateDistance(data6, data8)==0:\n",
    "  print(\" both are same image\")\n",
    "else:\n",
    "    print(\"image are different \")"
   ]
  },
  {
   "cell_type": "code",
   "execution_count": 132,
   "id": "55fd1ce4-b323-4be3-92d9-b0e89f2cb8c1",
   "metadata": {},
   "outputs": [
    {
     "name": "stdout",
     "output_type": "stream",
     "text": [
      "image are different \n"
     ]
    }
   ],
   "source": [
    "if calculateDistance(data6, data9)==0:\n",
    "      print(\" both are same image\")\n",
    "else:\n",
    "    print(\"image are different \")"
   ]
  },
  {
   "cell_type": "code",
   "execution_count": 133,
   "id": "32981ce4-039e-42f8-936a-0371f0c31645",
   "metadata": {},
   "outputs": [
    {
     "name": "stdout",
     "output_type": "stream",
     "text": [
      "image are different \n"
     ]
    }
   ],
   "source": [
    "if calculateDistance(data6, data0)==0:\n",
    "      print(\" both are same image\")\n",
    "else:\n",
    "    print(\"image are different \")"
   ]
  },
  {
   "cell_type": "code",
   "execution_count": 134,
   "id": "fb6bb309-f3b5-446d-a476-306c50eb8836",
   "metadata": {},
   "outputs": [
    {
     "name": "stdout",
     "output_type": "stream",
     "text": [
      " both are same image\n"
     ]
    }
   ],
   "source": [
    "#unkown image and 5th image\n",
    "if calculateDistance(data6, data10)==0:\n",
    "      print(\" both are same image\")\n",
    "else:\n",
    "    print(\"image are different \")"
   ]
  },
  {
   "cell_type": "code",
   "execution_count": null,
   "id": "2b844b5c-a555-4b71-8552-49306fce380a",
   "metadata": {},
   "outputs": [],
   "source": []
  },
  {
   "cell_type": "code",
   "execution_count": null,
   "id": "41884c4d-35ee-47d6-b8a0-b12bcbff0ec8",
   "metadata": {},
   "outputs": [],
   "source": []
  },
  {
   "cell_type": "code",
   "execution_count": null,
   "id": "e08bc2a0-282e-436d-8e0e-9355f501b69e",
   "metadata": {},
   "outputs": [],
   "source": []
  },
  {
   "cell_type": "code",
   "execution_count": null,
   "id": "66b4c976-98a1-4c60-976d-749ecafddb22",
   "metadata": {},
   "outputs": [],
   "source": []
  },
  {
   "cell_type": "code",
   "execution_count": null,
   "id": "e8ffc781-a13c-458e-8ff4-e47dfdf05303",
   "metadata": {},
   "outputs": [],
   "source": []
  },
  {
   "cell_type": "code",
   "execution_count": null,
   "id": "e17e599b-8345-4987-a8ba-5903c00f6074",
   "metadata": {},
   "outputs": [],
   "source": []
  },
  {
   "cell_type": "code",
   "execution_count": null,
   "id": "ece9e0c0-3ab5-46ff-a46c-f01a1be3db4c",
   "metadata": {},
   "outputs": [],
   "source": []
  },
  {
   "cell_type": "code",
   "execution_count": null,
   "id": "9a985df4-66f3-4f0b-9b79-d04e90b7f7a2",
   "metadata": {},
   "outputs": [],
   "source": []
  },
  {
   "cell_type": "code",
   "execution_count": null,
   "id": "3baa43d0-3b97-4855-a9d8-4c72350289f2",
   "metadata": {},
   "outputs": [],
   "source": []
  }
 ],
 "metadata": {
  "kernelspec": {
   "display_name": "Python 3",
   "language": "python",
   "name": "python3"
  },
  "language_info": {
   "codemirror_mode": {
    "name": "ipython",
    "version": 3
   },
   "file_extension": ".py",
   "mimetype": "text/x-python",
   "name": "python",
   "nbconvert_exporter": "python",
   "pygments_lexer": "ipython3",
   "version": "3.8.8"
  }
 },
 "nbformat": 4,
 "nbformat_minor": 5
}